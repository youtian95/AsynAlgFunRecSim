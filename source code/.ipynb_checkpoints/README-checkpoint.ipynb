{
 "cells": [
  {
   "cell_type": "markdown",
   "id": "1b48ed2a-a6fd-4666-8eaf-7eeb9c3de2b1",
   "metadata": {},
   "source": [
    "# Source codes"
   ]
  },
  {
   "cell_type": "markdown",
   "id": "063e86a5-1aef-4d37-9be9-c907ae1cd881",
   "metadata": {},
   "source": [
    "\n",
    "---\n",
    "\n",
    "## Main file\n",
    "\n",
    "### Main_Complexity.mlx\n",
    "\n",
    "A scalable building portfolio used for verifying the time complexity of asynchronous and synchronous algorithms\n",
    "\n",
    "### Main_CaseStudy_SF.mlx\n",
    "\n",
    "Post-earthquake recovey simulations of a portfolio of buildings located in the San Francisco bay area"
   ]
  },
  {
   "cell_type": "markdown",
   "id": "eae0d5cf-cdea-4ce6-ba06-37ec80d67198",
   "metadata": {},
   "source": [
    "\n",
    "---\n",
    "\n",
    "## Core Codes\n",
    "\n",
    "### AsyRecovSim.m\n",
    "\n",
    "A matlab function\n",
    "\n",
    "Post-earthquake recovery simulation of interdependant infrastructure systems. An asynchronous algorithm is used\n",
    "\n",
    "### SynRecovSim.m\n",
    "\n",
    "A matlab function\n",
    "\n",
    "Post-earthquake recovery simulation of interdependant infrastructure systems. An synchronous algorithm is used\n",
    "\n",
    "Note that looped dependency relationship is not allowed\n",
    "\n"
   ]
  },
  {
   "cell_type": "code",
   "execution_count": null,
   "id": "06ce1e0f-ec5e-450e-b219-f21c4fd872d8",
   "metadata": {},
   "outputs": [],
   "source": []
  }
 ],
 "metadata": {
  "kernelspec": {
   "display_name": "Python 3 (ipykernel)",
   "language": "python",
   "name": "python3"
  },
  "language_info": {
   "codemirror_mode": {
    "name": "ipython",
    "version": 3
   },
   "file_extension": ".py",
   "mimetype": "text/x-python",
   "name": "python",
   "nbconvert_exporter": "python",
   "pygments_lexer": "ipython3",
   "version": "3.8.4"
  },
  "toc-autonumbering": false,
  "toc-showcode": false,
  "toc-showmarkdowntxt": false
 },
 "nbformat": 4,
 "nbformat_minor": 5
}
