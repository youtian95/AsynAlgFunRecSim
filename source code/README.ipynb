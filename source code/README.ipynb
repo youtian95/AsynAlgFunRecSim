{
 "cells": [
  {
   "cell_type": "markdown",
   "id": "1b48ed2a-a6fd-4666-8eaf-7eeb9c3de2b1",
   "metadata": {},
   "source": [
    "# Source codes"
   ]
  },
  {
   "cell_type": "markdown",
   "id": "063e86a5-1aef-4d37-9be9-c907ae1cd881",
   "metadata": {},
   "source": [
    "## Main file\n",
    "\n",
    "Main_Cordon_HeightPattern.mlx\n",
    "\n",
    "The 1st example -- collapse cordon -- of illustrating the efficiency of asynchronous and synchronous algorithms. "
   ]
  },
  {
   "cell_type": "markdown",
   "id": "d188319a-c2c0-4aa7-a0f0-07097daed77e",
   "metadata": {},
   "source": [
    "## Test\n",
    "\n",
    "TestClass.m"
   ]
  },
  {
   "cell_type": "code",
   "execution_count": null,
   "id": "5d7cffd8-86ed-4b3b-a7af-ec9c2b8e4717",
   "metadata": {},
   "outputs": [],
   "source": [
    ">> runtests"
   ]
  },
  {
   "cell_type": "markdown",
   "id": "eae0d5cf-cdea-4ce6-ba06-37ec80d67198",
   "metadata": {},
   "source": [
    "## Codes\n",
    "\n",
    "### AsyRecovSim.m\n",
    "\n",
    "A matlab function\n",
    "\n",
    "Post-earthquake recovery simulation of interdependant infrastructure systems. An asynchronous algorithm is used\n",
    "\n",
    "### SynRecovSim.m\n",
    "\n",
    "A matlab function\n",
    "\n",
    "Post-earthquake recovery simulation of interdependant infrastructure systems. An synchronous algorithm is used\n",
    "\n",
    "Note that looped dependency relationship is not allowed\n",
    "\n"
   ]
  },
  {
   "cell_type": "code",
   "execution_count": null,
   "id": "84c94865-66cf-495d-831e-c436b20227d4",
   "metadata": {},
   "outputs": [],
   "source": []
  }
 ],
 "metadata": {
  "kernelspec": {
   "display_name": "Python 3 (ipykernel)",
   "language": "python",
   "name": "python3"
  },
  "language_info": {
   "codemirror_mode": {
    "name": "ipython",
    "version": 3
   },
   "file_extension": ".py",
   "mimetype": "text/x-python",
   "name": "python",
   "nbconvert_exporter": "python",
   "pygments_lexer": "ipython3",
   "version": "3.9.13"
  },
  "toc-autonumbering": false,
  "toc-showcode": false,
  "toc-showmarkdowntxt": false
 },
 "nbformat": 4,
 "nbformat_minor": 5
}
